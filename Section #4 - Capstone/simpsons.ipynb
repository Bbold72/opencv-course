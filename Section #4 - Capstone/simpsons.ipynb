{
  "nbformat": 4,
  "nbformat_minor": 2,
  "metadata": {
    "kernelspec": {
      "name": "python3",
      "display_name": "Python 3.8.11 64-bit ('openCV_venv': conda)"
    },
    "language_info": {
      "pygments_lexer": "ipython3",
      "nbconvert_exporter": "python",
      "version": "3.8.11",
      "file_extension": ".py",
      "codemirror_mode": {
        "name": "ipython",
        "version": 3
      },
      "name": "python",
      "mimetype": "text/x-python"
    },
    "colab": {
      "name": "simpsons.ipynb",
      "provenance": []
    },
    "interpreter": {
      "hash": "93aadfbdc9f3ed932ca8356a9349d7ae611a4fe5d10ff961a527b83294df1ac2"
    }
  },
  "cells": [
    {
      "cell_type": "code",
      "execution_count": null,
      "source": [
        "# Installing `caer` and `canaro` since they don't come pre-installed\r\n",
        "!pip install --upgrade caer canaro"
      ],
      "outputs": [],
      "metadata": {
        "_uuid": "8f2839f25d086af736a60e9eeb907d3b93b6e0e5",
        "_cell_guid": "b1076dfc-b9ad-4769-8c92-a6c4dae69d19",
        "trusted": true,
        "id": "MQoxjirY4S5o"
      }
    },
    {
      "cell_type": "code",
      "execution_count": 1,
      "source": [
        "import os\r\n",
        "import caer\r\n",
        "import canaro\r\n",
        "import numpy as np\r\n",
        "import cv2 as cv\r\n",
        "import gc\r\n",
        "#pylint:disable=no-member (Removes linting problems with cv)"
      ],
      "outputs": [],
      "metadata": {
        "_uuid": "d629ff2d2480ee46fbb7e2d37f6b5fab8052498a",
        "_cell_guid": "79c7e3d0-c299-4dcb-8224-4455121ee9b0",
        "trusted": true,
        "id": "_yldS7bG4S58"
      }
    },
    {
      "cell_type": "code",
      "execution_count": 2,
      "source": [
        "IMG_SIZE = (80,80)\r\n",
        "channels = 1\r\n",
        "char_path = r'../input/the-simpsons-characters-dataset/simpsons_dataset'"
      ],
      "outputs": [],
      "metadata": {
        "trusted": true,
        "id": "TuC64gTq4S6K"
      }
    },
    {
      "cell_type": "code",
      "execution_count": 3,
      "source": [
        "# Creating a character dictionary, sorting it in descending order\r\n",
        "char_dict = {}\r\n",
        "for char in os.listdir(char_path):\r\n",
        "    char_dict[char] = len(os.listdir(os.path.join(char_path,char)))\r\n",
        "\r\n",
        "# Sort in descending order\r\n",
        "char_dict = caer.sort_dict(char_dict, descending=True)\r\n",
        "char_dict"
      ],
      "outputs": [
        {
          "output_type": "error",
          "ename": "FileNotFoundError",
          "evalue": "[WinError 3] The system cannot find the path specified: '../input/the-simpsons-characters-dataset/simpsons_dataset'",
          "traceback": [
            "\u001b[1;31m---------------------------------------------------------------------------\u001b[0m",
            "\u001b[1;31mFileNotFoundError\u001b[0m                         Traceback (most recent call last)",
            "\u001b[1;32m~\\AppData\\Local\\Temp/ipykernel_8476/3577217492.py\u001b[0m in \u001b[0;36m<module>\u001b[1;34m\u001b[0m\n\u001b[0;32m      1\u001b[0m \u001b[1;31m# Creating a character dictionary, sorting it in descending order\u001b[0m\u001b[1;33m\u001b[0m\u001b[1;33m\u001b[0m\u001b[1;33m\u001b[0m\u001b[0m\n\u001b[0;32m      2\u001b[0m \u001b[0mchar_dict\u001b[0m \u001b[1;33m=\u001b[0m \u001b[1;33m{\u001b[0m\u001b[1;33m}\u001b[0m\u001b[1;33m\u001b[0m\u001b[1;33m\u001b[0m\u001b[0m\n\u001b[1;32m----> 3\u001b[1;33m \u001b[1;32mfor\u001b[0m \u001b[0mchar\u001b[0m \u001b[1;32min\u001b[0m \u001b[0mos\u001b[0m\u001b[1;33m.\u001b[0m\u001b[0mlistdir\u001b[0m\u001b[1;33m(\u001b[0m\u001b[0mchar_path\u001b[0m\u001b[1;33m)\u001b[0m\u001b[1;33m:\u001b[0m\u001b[1;33m\u001b[0m\u001b[1;33m\u001b[0m\u001b[0m\n\u001b[0m\u001b[0;32m      4\u001b[0m     \u001b[0mchar_dict\u001b[0m\u001b[1;33m[\u001b[0m\u001b[0mchar\u001b[0m\u001b[1;33m]\u001b[0m \u001b[1;33m=\u001b[0m \u001b[0mlen\u001b[0m\u001b[1;33m(\u001b[0m\u001b[0mos\u001b[0m\u001b[1;33m.\u001b[0m\u001b[0mlistdir\u001b[0m\u001b[1;33m(\u001b[0m\u001b[0mos\u001b[0m\u001b[1;33m.\u001b[0m\u001b[0mpath\u001b[0m\u001b[1;33m.\u001b[0m\u001b[0mjoin\u001b[0m\u001b[1;33m(\u001b[0m\u001b[0mchar_path\u001b[0m\u001b[1;33m,\u001b[0m\u001b[0mchar\u001b[0m\u001b[1;33m)\u001b[0m\u001b[1;33m)\u001b[0m\u001b[1;33m)\u001b[0m\u001b[1;33m\u001b[0m\u001b[1;33m\u001b[0m\u001b[0m\n\u001b[0;32m      5\u001b[0m \u001b[1;33m\u001b[0m\u001b[0m\n",
            "\u001b[1;31mFileNotFoundError\u001b[0m: [WinError 3] The system cannot find the path specified: '../input/the-simpsons-characters-dataset/simpsons_dataset'"
          ]
        }
      ],
      "metadata": {
        "trusted": true,
        "id": "RD5OHUE84S6U"
      }
    },
    {
      "cell_type": "code",
      "execution_count": null,
      "source": [
        "#  Getting the first 10 categories with the most number of images\r\n",
        "characters = []\r\n",
        "count = 0\r\n",
        "for i in char_dict:\r\n",
        "    characters.append(i[0])\r\n",
        "    count += 1\r\n",
        "    if count >= 10:\r\n",
        "        break\r\n",
        "characters"
      ],
      "outputs": [],
      "metadata": {
        "trusted": true,
        "id": "OQ09DqmI4S6g"
      }
    },
    {
      "cell_type": "code",
      "execution_count": null,
      "source": [
        "# Create the training data\r\n",
        "train = caer.preprocess_from_dir(char_path, characters, channels=channels, IMG_SIZE=IMG_SIZE, isShuffle=True)"
      ],
      "outputs": [],
      "metadata": {
        "trusted": true,
        "id": "X4UnTWk74S6q"
      }
    },
    {
      "cell_type": "code",
      "execution_count": null,
      "source": [
        "# Number of training samples\r\n",
        "len(train)"
      ],
      "outputs": [],
      "metadata": {
        "trusted": true,
        "id": "ZaSuzC2J4S6z"
      }
    },
    {
      "cell_type": "code",
      "execution_count": null,
      "source": [
        "# Visualizing the data (OpenCV doesn't display well in Jupyter notebooks)\r\n",
        "import matplotlib.pyplot as plt\r\n",
        "plt.figure(figsize=(30,30))\r\n",
        "plt.imshow(train[0][0], cmap='gray')\r\n",
        "plt.show()"
      ],
      "outputs": [],
      "metadata": {
        "trusted": true,
        "id": "hSw-V2H24S7A"
      }
    },
    {
      "cell_type": "code",
      "execution_count": null,
      "source": [
        "# Separating the array and corresponding labels\r\n",
        "featureSet, labels = caer.sep_train(train, IMG_SIZE=IMG_SIZE)"
      ],
      "outputs": [],
      "metadata": {
        "trusted": true,
        "id": "arO-90034S7J"
      }
    },
    {
      "cell_type": "code",
      "execution_count": null,
      "source": [
        "from tensorflow.keras.utils import to_categorical\r\n",
        "\r\n",
        "# Normalize the featureSet ==> (0,1)\r\n",
        "featureSet = caer.normalize(featureSet)\r\n",
        "# Converting numerical labels to binary class vectors\r\n",
        "labels = to_categorical(labels, len(characters))"
      ],
      "outputs": [],
      "metadata": {
        "trusted": true,
        "id": "Sl8VnLCY4S7O"
      }
    },
    {
      "cell_type": "code",
      "execution_count": null,
      "source": [
        "x_train, x_val, y_train, y_val = caer.train_test_split(featureSet, labels, val_ratio=.2)"
      ],
      "outputs": [],
      "metadata": {
        "trusted": true,
        "id": "pzXXrqbt4S7S"
      }
    },
    {
      "cell_type": "code",
      "execution_count": null,
      "source": [
        "del train\r\n",
        "del featureSet\r\n",
        "del labels \r\n",
        "gc.collect()"
      ],
      "outputs": [],
      "metadata": {
        "trusted": true,
        "id": "emsrpYWZ4S7W"
      }
    },
    {
      "cell_type": "code",
      "execution_count": null,
      "source": [
        "# Useful variables when training\r\n",
        "BATCH_SIZE = 32\r\n",
        "EPOCHS = 10"
      ],
      "outputs": [],
      "metadata": {
        "trusted": true,
        "id": "NkS1ceD94S7a"
      }
    },
    {
      "cell_type": "code",
      "execution_count": null,
      "source": [
        "# Image data generator (introduces randomness in network ==> better accuracy)\r\n",
        "datagen = canaro.generators.imageDataGenerator()\r\n",
        "train_gen = datagen.flow(x_train, y_train, batch_size=BATCH_SIZE)"
      ],
      "outputs": [],
      "metadata": {
        "trusted": true,
        "id": "_atEyygG4S7g"
      }
    },
    {
      "cell_type": "code",
      "execution_count": null,
      "source": [
        "# Create our model (returns a compiled model)\r\n",
        "model = canaro.models.createSimpsonsModel(IMG_SIZE=IMG_SIZE, channels=channels, output_dim=len(characters), \r\n",
        "                                         loss='binary_crossentropy', decay=1e-7, learning_rate=0.001, momentum=0.9,\r\n",
        "                                         nesterov=True)"
      ],
      "outputs": [],
      "metadata": {
        "trusted": true,
        "id": "Y8fjXBuH4S7m"
      }
    },
    {
      "cell_type": "code",
      "execution_count": null,
      "source": [
        "model.summary()"
      ],
      "outputs": [],
      "metadata": {
        "trusted": true,
        "id": "CepcT54J4S7t"
      }
    },
    {
      "cell_type": "code",
      "execution_count": null,
      "source": [
        "# Training the model\r\n",
        "\r\n",
        "from tensorflow.keras.callbacks import LearningRateScheduler\r\n",
        "callbacks_list = [LearningRateScheduler(canaro.lr_schedule)]\r\n",
        "training = model.fit(train_gen,\r\n",
        "                    steps_per_epoch=len(x_train)//BATCH_SIZE,\r\n",
        "                    epochs=EPOCHS,\r\n",
        "                    validation_data=(x_val,y_val),\r\n",
        "                    validation_steps=len(y_val)//BATCH_SIZE,\r\n",
        "                    callbacks = callbacks_list)"
      ],
      "outputs": [],
      "metadata": {
        "trusted": true,
        "id": "AknG90ch4S7-"
      }
    },
    {
      "cell_type": "code",
      "execution_count": null,
      "source": [
        "characters"
      ],
      "outputs": [],
      "metadata": {
        "trusted": true,
        "id": "CUifBqOG4S8G"
      }
    },
    {
      "cell_type": "markdown",
      "source": [
        "## Testing"
      ],
      "metadata": {
        "id": "qiNY_zSy6Quj"
      }
    },
    {
      "cell_type": "code",
      "execution_count": null,
      "source": [
        "test_path = r'../input/the-simpsons-characters-dataset/kaggle_simpson_testset/kaggle_simpson_testset/charles_montgomery_burns_0.jpg'\r\n",
        "\r\n",
        "img = cv.imread(test_path)\r\n",
        "\r\n",
        "plt.imshow(img)\r\n",
        "plt.show()"
      ],
      "outputs": [],
      "metadata": {
        "trusted": true,
        "id": "ETnmB3DC4S8M"
      }
    },
    {
      "cell_type": "code",
      "execution_count": null,
      "source": [
        "def prepare(image):\r\n",
        "    image = cv.cvtColor(image, cv.COLOR_BGR2GRAY)\r\n",
        "    image = cv.resize(image, IMG_SIZE)\r\n",
        "    image = caer.reshape(image, IMG_SIZE, 1)\r\n",
        "    return image"
      ],
      "outputs": [],
      "metadata": {
        "trusted": true,
        "id": "yJjmMuvj4S8T"
      }
    },
    {
      "cell_type": "code",
      "execution_count": null,
      "source": [
        "predictions = model.predict(prepare(img))"
      ],
      "outputs": [],
      "metadata": {
        "trusted": true,
        "id": "hZTjUKKn4S8a"
      }
    },
    {
      "cell_type": "code",
      "execution_count": null,
      "source": [
        "# Getting class with the highest probability\r\n",
        "print(characters[np.argmax(predictions[0])])"
      ],
      "outputs": [],
      "metadata": {
        "trusted": true,
        "id": "3a4AW8qT4S8g"
      }
    }
  ]
}